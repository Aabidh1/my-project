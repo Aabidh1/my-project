{
 "cells": [
  {
   "cell_type": "code",
   "execution_count": 12,
   "id": "4c20d891",
   "metadata": {},
   "outputs": [
    {
     "name": "stdout",
     "output_type": "stream",
     "text": [
      "bfs\n",
      "0 1 2 3 4 \n",
      "\n",
      "dfs\n",
      "0 1 2 3 4 \n",
      "\n"
     ]
    }
   ],
   "source": [
    "class Graph1:\n",
    "    def __init__(self, size):\n",
    "        self.matrix = []\n",
    "        for i in range(size):\n",
    "            self.matrix.append([0] * size)\n",
    "        self.size = size\n",
    "\n",
    "    def addEdge(self, u, v):\n",
    "        if u >= 0 and v >= 0 and u < self.size and v < self.size:\n",
    "            self.matrix[u][v] = 1\n",
    "            self.matrix[v][u] = 1\n",
    "\n",
    "    def isEdge(self, u, v):\n",
    "        if u >= 0 and v >= 0 and u < self.size and v < self.size:\n",
    "            return self.matrix[u][v] == 1\n",
    "        return False\n",
    "\n",
    "    def bfs(self, start_vertex):\n",
    "        visited = [False] * self.size\n",
    "        queue = []\n",
    "        queue.append(start_vertex)\n",
    "        visited[start_vertex] = True\n",
    "\n",
    "        while queue:\n",
    "            vertex = queue.pop(0)\n",
    "            print(vertex, end=' ')\n",
    "\n",
    "            for i in range(self.size):\n",
    "                if self.matrix[vertex][i] == 1 and not visited[i]:\n",
    "                    queue.append(i)\n",
    "                    visited[i] = True\n",
    "\n",
    "    def dfs(self, start_vertex):\n",
    "        visited = [False] * self.size\n",
    "        self._dfs_recursive(start_vertex, visited)\n",
    "\n",
    "    def _dfs_recursive(self, vertex, visited):\n",
    "        visited[vertex] = True\n",
    "        print(vertex, end=' ')\n",
    "\n",
    "        for i in range(self.size):\n",
    "            if self.matrix[vertex][i] == 1 and not visited[i]:\n",
    "                self._dfs_recursive(i, visited)\n",
    "\n",
    "\n",
    "# Activity 4 -: Create an arbitrary sized graph object, insert some edges and call bfs() and dfs() functions on it\n",
    "\n",
    "# Generate a representation of an object.\n",
    "graph1 = Graph(5)\n",
    "\n",
    "# entering edges \n",
    "graph1.addEdge(0, 1)\n",
    "graph1.addEdge(0, 2)\n",
    "graph1.addEdge(0, 3)\n",
    "graph1.addEdge(0, 4)\n",
    "\n",
    "# results of bfs\n",
    "print(\"bfs\")\n",
    "graph1.bfs(0)\n",
    "print(\"\\n\")\n",
    "\n",
    "# result of dfs\n",
    "print(\"dfs\")\n",
    "graph1.dfs(0)\n",
    "print(\"\\n\")"
   ]
  },
  {
   "cell_type": "code",
   "execution_count": null,
   "id": "e7623fa3",
   "metadata": {},
   "outputs": [],
   "source": []
  }
 ],
 "metadata": {
  "kernelspec": {
   "display_name": "Python 3 (ipykernel)",
   "language": "python",
   "name": "python3"
  },
  "language_info": {
   "codemirror_mode": {
    "name": "ipython",
    "version": 3
   },
   "file_extension": ".py",
   "mimetype": "text/x-python",
   "name": "python",
   "nbconvert_exporter": "python",
   "pygments_lexer": "ipython3",
   "version": "3.9.12"
  }
 },
 "nbformat": 4,
 "nbformat_minor": 5
}
#i made a comment
